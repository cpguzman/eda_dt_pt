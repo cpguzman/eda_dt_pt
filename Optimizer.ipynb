{
 "cells": [
  {
   "cell_type": "markdown",
   "id": "057e797b",
   "metadata": {
    "pycharm": {
     "name": "#%% md\n"
    }
   },
   "source": [
    "## Import packages"
   ]
  },
  {
   "cell_type": "code",
   "execution_count": 3286,
   "id": "f110f9f3",
   "metadata": {
    "ExecuteTime": {
     "end_time": "2023-01-24T15:20:23.283744Z",
     "start_time": "2023-01-24T15:20:22.285722Z"
    },
    "pycharm": {
     "name": "#%%\n"
    }
   },
   "outputs": [],
   "source": [
    "import pyomo\n",
    "import pyomo.opt\n",
    "import pyomo.environ as pyo\n",
    "import numpy as np\n",
    "import pandas as pd\n",
    "import matplotlib as plt"
   ]
  },
  {
   "cell_type": "code",
   "execution_count": 3287,
   "id": "38054d66",
   "metadata": {
    "ExecuteTime": {
     "end_time": "2023-01-24T15:20:23.288744Z",
     "start_time": "2023-01-24T15:20:23.283744Z"
    },
    "pycharm": {
     "name": "#%%\n"
    }
   },
   "outputs": [],
   "source": [
    "n_time = 24"
   ]
  },
  {
   "cell_type": "code",
   "execution_count": 3288,
   "id": "f0a3323d",
   "metadata": {
    "ExecuteTime": {
     "end_time": "2023-01-24T15:20:23.302744Z",
     "start_time": "2023-01-24T15:20:23.288744Z"
    },
    "pycharm": {
     "name": "#%%\n"
    }
   },
   "outputs": [],
   "source": [
    "def _auxDictionary(a):\n",
    "    temp_dictionary = {}\n",
    "    if len(a.shape) == 3:\n",
    "        for dim0 in np.arange(a.shape[0]):\n",
    "            for dim1 in np.arange(a.shape[1]):\n",
    "                for dim2 in np.arange(a.shape[2]):\n",
    "                    temp_dictionary[(dim0+1, dim1+1, dim2+1)] = a[dim0, dim1, dim2]\n",
    "    elif len(a.shape) == 2:\n",
    "        for dim0 in np.arange(a.shape[0]):\n",
    "            for dim1 in np.arange(a.shape[1]):\n",
    "                temp_dictionary[(dim0+1, dim1+1)] = a[dim0, dim1]\n",
    "    else:\n",
    "        for dim0 in np.arange(a.shape[0]):\n",
    "            temp_dictionary[(dim0+1)] = a[dim0]\n",
    "    return temp_dictionary\n",
    "#temp_dict1 = _auxDictionary(loadLimit)"
   ]
  },
  {
   "cell_type": "markdown",
   "id": "04ed8ab8",
   "metadata": {
    "pycharm": {
     "name": "#%% md\n"
    }
   },
   "source": [
    "## Data"
   ]
  },
  {
   "cell_type": "code",
   "execution_count": 3289,
   "id": "f228a10e",
   "metadata": {
    "ExecuteTime": {
     "end_time": "2023-01-24T15:20:23.333746Z",
     "start_time": "2023-01-24T15:20:23.304745Z"
    },
    "pycharm": {
     "name": "#%%\n"
    }
   },
   "outputs": [],
   "source": [
    "data = {}\n",
    "data['Inputs'] = pd.read_csv('inputs.csv')\n",
    "data['evs_inputs'] = pd.read_csv('evs_inputs.csv')\n",
    "data['alpha'] = pd.read_csv('alpha.csv')\n",
    "data['css_inputs'] = pd.read_csv('css_inputs.csv')\n",
    "data['pchmaxcs'] = pd.read_csv('pchmaxcs.csv')\n",
    "data['S'] = pd.read_csv('s.csv')\n",
    "data['S'] = pd.read_csv('s.csv')\n",
    "data['cp_inputs'] = pd.read_csv('cp_inputs.csv')\n"
   ]
  },
  {
   "cell_type": "code",
   "execution_count": 3290,
   "id": "efea3099",
   "metadata": {
    "ExecuteTime": {
     "end_time": "2023-01-24T15:20:23.339747Z",
     "start_time": "2023-01-24T15:20:23.335746Z"
    },
    "pycharm": {
     "name": "#%%\n"
    }
   },
   "outputs": [
    {
     "name": "stdout",
     "output_type": "stream",
     "text": [
      "2 1\n",
      "2\n"
     ]
    }
   ],
   "source": [
    "n_evs = data['evs_inputs']['Esoc'].size\n",
    "cp = data['cp_inputs']['Number'].size\n",
    "css = data['css_inputs']['Number'].size\n",
    "\n",
    "print(cp, css)\n",
    "print(cp)"
   ]
  },
  {
   "cell_type": "markdown",
   "id": "c34e513a",
   "metadata": {
    "pycharm": {
     "name": "#%% md\n"
    }
   },
   "source": [
    "## Start Time"
   ]
  },
  {
   "cell_type": "code",
   "execution_count": 3291,
   "id": "72a44871",
   "metadata": {
    "pycharm": {
     "name": "#%%\n"
    }
   },
   "outputs": [
    {
     "name": "stdout",
     "output_type": "stream",
     "text": [
      "Start Time = 11:44:56\n"
     ]
    }
   ],
   "source": [
    "from datetime import datetime\n",
    "\n",
    "now = datetime.now()\n",
    "\n",
    "start_time = now.strftime(\"%H:%M:%S\")\n",
    "print(\"Start Time =\", start_time)"
   ]
  },
  {
   "cell_type": "markdown",
   "id": "bb30128f",
   "metadata": {
    "pycharm": {
     "name": "#%% md\n"
    }
   },
   "source": [
    "## Sets"
   ]
  },
  {
   "cell_type": "code",
   "execution_count": 3292,
   "id": "4bf32c3d",
   "metadata": {
    "ExecuteTime": {
     "end_time": "2023-01-24T15:20:23.353747Z",
     "start_time": "2023-01-24T15:20:23.341747Z"
    },
    "pycharm": {
     "name": "#%%\n"
    }
   },
   "outputs": [],
   "source": [
    "model = pyo.ConcreteModel()\n",
    "\n",
    "model.ev = pyo.Set(initialize = np.arange(1, n_evs + 1))\n",
    "model.t = pyo.Set(initialize = np.arange(1, n_time + 1))\n",
    "model.cs = pyo.Set(initialize = np.arange(1, css + 1))\n",
    "model.cp = pyo.Set(initialize = np.arange(1, cp + 1))\n"
   ]
  },
  {
   "cell_type": "markdown",
   "id": "e9002fae",
   "metadata": {
    "pycharm": {
     "name": "#%% md\n"
    }
   },
   "source": [
    "## Parameters"
   ]
  },
  {
   "cell_type": "code",
   "execution_count": 3293,
   "id": "a8a2f931",
   "metadata": {
    "ExecuteTime": {
     "end_time": "2023-01-24T15:20:24.738779Z",
     "start_time": "2023-01-24T15:20:23.355748Z"
    },
    "pycharm": {
     "name": "#%%\n"
    }
   },
   "outputs": [],
   "source": [
    "model.ESoc = pyo.Param(model.ev, initialize =_auxDictionary(data['evs_inputs'].to_numpy()[:,0]))\n",
    "model.EEVmin = pyo.Param(model.ev, initialize =_auxDictionary(data['evs_inputs'].to_numpy()[:,1]))\n",
    "model.EEVmax = pyo.Param(model.ev, initialize =_auxDictionary(data['evs_inputs'].to_numpy()[:,2]))\n",
    "model.Etrip = pyo.Param(model.ev, initialize=_auxDictionary(data['evs_inputs'].to_numpy()[:,3]))\n",
    "model.PchmaxCS = pyo.Param(model.ev, model.t, initialize =_auxDictionary(data['pchmaxcs'].to_numpy()))\n",
    "model.PchmaxEV = pyo.Param(model.ev, initialize =_auxDictionary(data['evs_inputs'].to_numpy()[:,4]))\n",
    "model.PdchmaxEV = pyo.Param(model.ev, initialize =_auxDictionary(data['evs_inputs'].to_numpy()[:,5]))\n",
    "model.evcheff = pyo.Param(model.ev, initialize =_auxDictionary(data['evs_inputs'].to_numpy()[:,6])) \n",
    "model.evdcheff = pyo.Param(model.ev, initialize =_auxDictionary(data['evs_inputs'].to_numpy()[:,7])) \n",
    "model.cheff = pyo.Param(model.cp, initialize =_auxDictionary(data['cp_inputs'].to_numpy()[:,1])) \n",
    "model.dcheff = pyo.Param(model.cp, initialize =_auxDictionary(data['cp_inputs'].to_numpy()[:,2])) \n",
    "model.cpconnected = pyo.Param(model.ev, initialize =_auxDictionary(data['evs_inputs'].to_numpy()[:,8])) \n",
    "model.Pcpmax = pyo.Param(model.cp, initialize =_auxDictionary(data['cp_inputs'].to_numpy()[:,3])) \n",
    "#model.Pcpdis = pyo.Param(model.cp, initialize =_auxDictionary(data['CSs_inputs'].to_numpy()[:,5])) \n",
    "model.type_ = pyo.Param(model.ev, initialize =_auxDictionary(data['evs_inputs'].to_numpy()[:,9])) \n",
    "model.v2gcp = pyo.Param(model.cp, initialize =_auxDictionary(data['cp_inputs'].to_numpy()[:,4])) \n",
    "model.v2gev = pyo.Param(model.ev, initialize =_auxDictionary(data['evs_inputs'].to_numpy()[:,9])) \n",
    "model.Pcsmax = pyo.Param(model.cs, initialize =_auxDictionary(data['css_inputs'].to_numpy()[:,1])) \n",
    "\n",
    "\n",
    "#cs_data = data['CSs_inputs'].to_numpy()\n",
    "#int_cs_data = cs_data.astype(int)\n",
    "#print(int_cs_data, int_cs_data[:,10], _auxDictionary(int_cs_data[:,10]))\n",
    "#model.Pcpmax = pyo.Param(model.cp, initialize =_auxDictionary(int_cs_data[:,4])) \n",
    "#model.type_ = pyo.Param(model.cp, initialize =_auxDictionary(int_cs_data[:,10])) \n",
    "x = data['cp_inputs'].to_numpy().astype(int)\n",
    "\n",
    "model.place = pyo.Param(model.cp, initialize =_auxDictionary(x[:,6])) \n",
    "\n",
    "\n",
    "model.dT = pyo.Param(model.t, initialize =_auxDictionary(data['Inputs'].to_numpy()[:,0]))\n",
    "model.cDA = pyo.Param(model.t, initialize =_auxDictionary(data['Inputs'].to_numpy()[:,1]))\n",
    "model.S = pyo.Param(model.ev, model.t, initialize = _auxDictionary(data['S'].to_numpy()))\n",
    "model.alpha = pyo.Param(model.ev, model.t, initialize = _auxDictionary(data['alpha'].to_numpy()))\n",
    "#model.RealHour = pyo.Param(model.t, initialize=_auxDictionary(data['Inputs'].to_numpy()[:,2]))\n",
    "model.penalty1 = 1000000\n",
    "model.penalty2 = 1000000\n",
    "model.penalty3 = 0.6\n",
    "\n",
    "\n",
    "#model.n = 0.95\n",
    "model.m = 0.6\n",
    "model.DegCost = 0.10\n",
    "model.factor = 1\n",
    "\n"
   ]
  },
  {
   "cell_type": "markdown",
   "id": "2474b5d3",
   "metadata": {
    "pycharm": {
     "name": "#%% md\n"
    }
   },
   "source": [
    "## Variables"
   ]
  },
  {
   "cell_type": "code",
   "execution_count": 3294,
   "id": "f9d77926",
   "metadata": {
    "ExecuteTime": {
     "end_time": "2023-01-24T15:20:25.035795Z",
     "start_time": "2023-01-24T15:20:24.738779Z"
    },
    "pycharm": {
     "name": "#%%\n"
    }
   },
   "outputs": [],
   "source": [
    "model.PEV = pyo.Var(model.ev, model.t, domain = pyo.NonNegativeReals, initialize = 0)\n",
    "model.PEVdc = pyo.Var(model.ev, model.t, domain = pyo.NonNegativeReals, initialize = 0)\n",
    "model.EEV = pyo.Var(model.ev, model.t, domain = pyo.Reals, initialize = 0)\n",
    "model.Etriprelax = pyo.Var(model.ev, model.t, domain = pyo.NonNegativeReals, initialize = 0)\n",
    "model.Eminsocrelax = pyo.Var(model.ev, model.t, domain = pyo.NonNegativeReals, initialize = 0)\n",
    "model.Etripn = pyo.Var(model.ev, model.t, domain = pyo.Reals, initialize = 0)\n",
    "model.a = pyo.Var(model.ev, model.t, domain = pyo.Binary,bounds=(0, 1), initialize=0) #EV charging binary \n",
    "model.b = pyo.Var(model.ev, model.t, domain = pyo.Binary,bounds=(0, 1), initialize=0) #EV discharging binary "
   ]
  },
  {
   "cell_type": "markdown",
   "id": "84469755",
   "metadata": {
    "pycharm": {
     "name": "#%% md\n"
    }
   },
   "source": [
    "## Constraints"
   ]
  },
  {
   "cell_type": "code",
   "execution_count": 3295,
   "id": "a0e36c8d",
   "metadata": {
    "ExecuteTime": {
     "end_time": "2023-01-24T15:20:30.446843Z",
     "start_time": "2023-01-24T15:20:25.038795Z"
    },
    "pycharm": {
     "name": "#%%\n"
    }
   },
   "outputs": [
    {
     "name": "stdout",
     "output_type": "stream",
     "text": [
      "{<pyomo.core.base.param.IndexedParam object at 0x0000029C88ABC940>}\n",
      "Entrou no IF no type 1com ev = 1, t = 1, cp = 1, m.type_[ev] = 1.0 m.Pcpmax[cp] = 6.0 m.place[cp] = 1\n",
      "{<pyomo.core.base.param.IndexedParam object at 0x0000029C88ABC940>}\n",
      "{<pyomo.core.base.param.IndexedParam object at 0x0000029C88ABC940>}\n",
      "Entrou no IF no type 1com ev = 1, t = 2, cp = 1, m.type_[ev] = 1.0 m.Pcpmax[cp] = 6.0 m.place[cp] = 1\n",
      "{<pyomo.core.base.param.IndexedParam object at 0x0000029C88ABC940>}\n",
      "{<pyomo.core.base.param.IndexedParam object at 0x0000029C88ABC940>}\n",
      "Entrou no IF no type 1com ev = 1, t = 3, cp = 1, m.type_[ev] = 1.0 m.Pcpmax[cp] = 6.0 m.place[cp] = 1\n",
      "{<pyomo.core.base.param.IndexedParam object at 0x0000029C88ABC940>}\n",
      "{<pyomo.core.base.param.IndexedParam object at 0x0000029C88ABC940>}\n",
      "Entrou no IF no type 1com ev = 1, t = 4, cp = 1, m.type_[ev] = 1.0 m.Pcpmax[cp] = 6.0 m.place[cp] = 1\n",
      "{<pyomo.core.base.param.IndexedParam object at 0x0000029C88ABC940>}\n",
      "{<pyomo.core.base.param.IndexedParam object at 0x0000029C88ABC940>}\n",
      "Entrou no IF no type 1com ev = 1, t = 5, cp = 1, m.type_[ev] = 1.0 m.Pcpmax[cp] = 6.0 m.place[cp] = 1\n",
      "{<pyomo.core.base.param.IndexedParam object at 0x0000029C88ABC940>}\n",
      "{<pyomo.core.base.param.IndexedParam object at 0x0000029C88ABC940>}\n",
      "Entrou no IF no type 1com ev = 1, t = 6, cp = 1, m.type_[ev] = 1.0 m.Pcpmax[cp] = 6.0 m.place[cp] = 1\n",
      "{<pyomo.core.base.param.IndexedParam object at 0x0000029C88ABC940>}\n",
      "{<pyomo.core.base.param.IndexedParam object at 0x0000029C88ABC940>}\n",
      "Entrou no IF no type 1com ev = 1, t = 7, cp = 1, m.type_[ev] = 1.0 m.Pcpmax[cp] = 6.0 m.place[cp] = 1\n",
      "{<pyomo.core.base.param.IndexedParam object at 0x0000029C88ABC940>}\n",
      "{<pyomo.core.base.param.IndexedParam object at 0x0000029C88ABC940>}\n",
      "Entrou no IF no type 1com ev = 1, t = 8, cp = 1, m.type_[ev] = 1.0 m.Pcpmax[cp] = 6.0 m.place[cp] = 1\n",
      "{<pyomo.core.base.param.IndexedParam object at 0x0000029C88ABC940>}\n",
      "{<pyomo.core.base.param.IndexedParam object at 0x0000029C88ABC940>}\n",
      "Entrou no IF no type 1com ev = 1, t = 9, cp = 1, m.type_[ev] = 1.0 m.Pcpmax[cp] = 6.0 m.place[cp] = 1\n",
      "{<pyomo.core.base.param.IndexedParam object at 0x0000029C88ABC940>}\n",
      "{<pyomo.core.base.param.IndexedParam object at 0x0000029C88ABC940>}\n",
      "Entrou no IF no type 1com ev = 1, t = 10, cp = 1, m.type_[ev] = 1.0 m.Pcpmax[cp] = 6.0 m.place[cp] = 1\n",
      "{<pyomo.core.base.param.IndexedParam object at 0x0000029C88ABC940>}\n",
      "{<pyomo.core.base.param.IndexedParam object at 0x0000029C88ABC940>}\n",
      "Entrou no IF no type 1com ev = 1, t = 11, cp = 1, m.type_[ev] = 1.0 m.Pcpmax[cp] = 6.0 m.place[cp] = 1\n",
      "{<pyomo.core.base.param.IndexedParam object at 0x0000029C88ABC940>}\n",
      "{<pyomo.core.base.param.IndexedParam object at 0x0000029C88ABC940>}\n",
      "Entrou no IF no type 1com ev = 1, t = 12, cp = 1, m.type_[ev] = 1.0 m.Pcpmax[cp] = 6.0 m.place[cp] = 1\n",
      "{<pyomo.core.base.param.IndexedParam object at 0x0000029C88ABC940>}\n",
      "{<pyomo.core.base.param.IndexedParam object at 0x0000029C88ABC940>}\n",
      "Entrou no IF no type 1com ev = 1, t = 13, cp = 1, m.type_[ev] = 1.0 m.Pcpmax[cp] = 6.0 m.place[cp] = 1\n",
      "{<pyomo.core.base.param.IndexedParam object at 0x0000029C88ABC940>}\n",
      "{<pyomo.core.base.param.IndexedParam object at 0x0000029C88ABC940>}\n",
      "Entrou no IF no type 1com ev = 1, t = 14, cp = 1, m.type_[ev] = 1.0 m.Pcpmax[cp] = 6.0 m.place[cp] = 1\n",
      "{<pyomo.core.base.param.IndexedParam object at 0x0000029C88ABC940>}\n",
      "{<pyomo.core.base.param.IndexedParam object at 0x0000029C88ABC940>}\n",
      "Entrou no IF no type 1com ev = 1, t = 15, cp = 1, m.type_[ev] = 1.0 m.Pcpmax[cp] = 6.0 m.place[cp] = 1\n",
      "{<pyomo.core.base.param.IndexedParam object at 0x0000029C88ABC940>}\n",
      "{<pyomo.core.base.param.IndexedParam object at 0x0000029C88ABC940>}\n",
      "Entrou no IF no type 1com ev = 1, t = 16, cp = 1, m.type_[ev] = 1.0 m.Pcpmax[cp] = 6.0 m.place[cp] = 1\n",
      "{<pyomo.core.base.param.IndexedParam object at 0x0000029C88ABC940>}\n",
      "{<pyomo.core.base.param.IndexedParam object at 0x0000029C88ABC940>}\n",
      "Entrou no IF no type 1com ev = 1, t = 17, cp = 1, m.type_[ev] = 1.0 m.Pcpmax[cp] = 6.0 m.place[cp] = 1\n",
      "{<pyomo.core.base.param.IndexedParam object at 0x0000029C88ABC940>}\n",
      "{<pyomo.core.base.param.IndexedParam object at 0x0000029C88ABC940>}\n",
      "Entrou no IF no type 1com ev = 1, t = 18, cp = 1, m.type_[ev] = 1.0 m.Pcpmax[cp] = 6.0 m.place[cp] = 1\n",
      "{<pyomo.core.base.param.IndexedParam object at 0x0000029C88ABC940>}\n",
      "{<pyomo.core.base.param.IndexedParam object at 0x0000029C88ABC940>}\n",
      "Entrou no IF no type 1com ev = 1, t = 19, cp = 1, m.type_[ev] = 1.0 m.Pcpmax[cp] = 6.0 m.place[cp] = 1\n",
      "{<pyomo.core.base.param.IndexedParam object at 0x0000029C88ABC940>}\n",
      "{<pyomo.core.base.param.IndexedParam object at 0x0000029C88ABC940>}\n",
      "Entrou no IF no type 1com ev = 1, t = 20, cp = 1, m.type_[ev] = 1.0 m.Pcpmax[cp] = 6.0 m.place[cp] = 1\n",
      "{<pyomo.core.base.param.IndexedParam object at 0x0000029C88ABC940>}\n",
      "{<pyomo.core.base.param.IndexedParam object at 0x0000029C88ABC940>}\n",
      "Entrou no IF no type 1com ev = 1, t = 21, cp = 1, m.type_[ev] = 1.0 m.Pcpmax[cp] = 6.0 m.place[cp] = 1\n",
      "{<pyomo.core.base.param.IndexedParam object at 0x0000029C88ABC940>}\n",
      "{<pyomo.core.base.param.IndexedParam object at 0x0000029C88ABC940>}\n",
      "Entrou no IF no type 1com ev = 1, t = 22, cp = 1, m.type_[ev] = 1.0 m.Pcpmax[cp] = 6.0 m.place[cp] = 1\n",
      "{<pyomo.core.base.param.IndexedParam object at 0x0000029C88ABC940>}\n",
      "{<pyomo.core.base.param.IndexedParam object at 0x0000029C88ABC940>}\n",
      "Entrou no IF no type 1com ev = 1, t = 23, cp = 1, m.type_[ev] = 1.0 m.Pcpmax[cp] = 6.0 m.place[cp] = 1\n",
      "{<pyomo.core.base.param.IndexedParam object at 0x0000029C88ABC940>}\n",
      "{<pyomo.core.base.param.IndexedParam object at 0x0000029C88ABC940>}\n",
      "Entrou no IF no type 1com ev = 1, t = 24, cp = 1, m.type_[ev] = 1.0 m.Pcpmax[cp] = 6.0 m.place[cp] = 1\n",
      "{<pyomo.core.base.param.IndexedParam object at 0x0000029C88ABC940>}\n",
      "{<pyomo.core.base.param.IndexedParam object at 0x0000029C88ABC940>}\n",
      "{<pyomo.core.base.param.IndexedParam object at 0x0000029C88ABC940>}\n",
      "Entrou no ELSE no type 2 com ev = 2, t = 1, cp = 2,  m.type_[ev] = 2.0 m.Pcpmax[cp] = 2.0 m.place[cp] = 2\n",
      "{<pyomo.core.base.param.IndexedParam object at 0x0000029C88ABC940>}\n",
      "{<pyomo.core.base.param.IndexedParam object at 0x0000029C88ABC940>}\n",
      "Entrou no ELSE no type 2 com ev = 2, t = 2, cp = 2,  m.type_[ev] = 2.0 m.Pcpmax[cp] = 2.0 m.place[cp] = 2\n",
      "{<pyomo.core.base.param.IndexedParam object at 0x0000029C88ABC940>}\n",
      "{<pyomo.core.base.param.IndexedParam object at 0x0000029C88ABC940>}\n",
      "Entrou no ELSE no type 2 com ev = 2, t = 3, cp = 2,  m.type_[ev] = 2.0 m.Pcpmax[cp] = 2.0 m.place[cp] = 2\n",
      "{<pyomo.core.base.param.IndexedParam object at 0x0000029C88ABC940>}\n",
      "{<pyomo.core.base.param.IndexedParam object at 0x0000029C88ABC940>}\n",
      "Entrou no ELSE no type 2 com ev = 2, t = 4, cp = 2,  m.type_[ev] = 2.0 m.Pcpmax[cp] = 2.0 m.place[cp] = 2\n",
      "{<pyomo.core.base.param.IndexedParam object at 0x0000029C88ABC940>}\n",
      "{<pyomo.core.base.param.IndexedParam object at 0x0000029C88ABC940>}\n",
      "Entrou no ELSE no type 2 com ev = 2, t = 5, cp = 2,  m.type_[ev] = 2.0 m.Pcpmax[cp] = 2.0 m.place[cp] = 2\n",
      "{<pyomo.core.base.param.IndexedParam object at 0x0000029C88ABC940>}\n",
      "{<pyomo.core.base.param.IndexedParam object at 0x0000029C88ABC940>}\n",
      "Entrou no ELSE no type 2 com ev = 2, t = 6, cp = 2,  m.type_[ev] = 2.0 m.Pcpmax[cp] = 2.0 m.place[cp] = 2\n",
      "{<pyomo.core.base.param.IndexedParam object at 0x0000029C88ABC940>}\n",
      "{<pyomo.core.base.param.IndexedParam object at 0x0000029C88ABC940>}\n",
      "Entrou no ELSE no type 2 com ev = 2, t = 7, cp = 2,  m.type_[ev] = 2.0 m.Pcpmax[cp] = 2.0 m.place[cp] = 2\n",
      "{<pyomo.core.base.param.IndexedParam object at 0x0000029C88ABC940>}\n",
      "{<pyomo.core.base.param.IndexedParam object at 0x0000029C88ABC940>}\n",
      "Entrou no ELSE no type 2 com ev = 2, t = 8, cp = 2,  m.type_[ev] = 2.0 m.Pcpmax[cp] = 2.0 m.place[cp] = 2\n",
      "{<pyomo.core.base.param.IndexedParam object at 0x0000029C88ABC940>}\n",
      "{<pyomo.core.base.param.IndexedParam object at 0x0000029C88ABC940>}\n",
      "Entrou no ELSE no type 2 com ev = 2, t = 9, cp = 2,  m.type_[ev] = 2.0 m.Pcpmax[cp] = 2.0 m.place[cp] = 2\n",
      "{<pyomo.core.base.param.IndexedParam object at 0x0000029C88ABC940>}\n",
      "{<pyomo.core.base.param.IndexedParam object at 0x0000029C88ABC940>}\n",
      "Entrou no ELSE no type 2 com ev = 2, t = 10, cp = 2,  m.type_[ev] = 2.0 m.Pcpmax[cp] = 2.0 m.place[cp] = 2\n",
      "{<pyomo.core.base.param.IndexedParam object at 0x0000029C88ABC940>}\n",
      "{<pyomo.core.base.param.IndexedParam object at 0x0000029C88ABC940>}\n",
      "Entrou no ELSE no type 2 com ev = 2, t = 11, cp = 2,  m.type_[ev] = 2.0 m.Pcpmax[cp] = 2.0 m.place[cp] = 2\n",
      "{<pyomo.core.base.param.IndexedParam object at 0x0000029C88ABC940>}\n",
      "{<pyomo.core.base.param.IndexedParam object at 0x0000029C88ABC940>}\n",
      "Entrou no ELSE no type 2 com ev = 2, t = 12, cp = 2,  m.type_[ev] = 2.0 m.Pcpmax[cp] = 2.0 m.place[cp] = 2\n",
      "{<pyomo.core.base.param.IndexedParam object at 0x0000029C88ABC940>}\n",
      "{<pyomo.core.base.param.IndexedParam object at 0x0000029C88ABC940>}\n",
      "Entrou no ELSE no type 2 com ev = 2, t = 13, cp = 2,  m.type_[ev] = 2.0 m.Pcpmax[cp] = 2.0 m.place[cp] = 2\n",
      "{<pyomo.core.base.param.IndexedParam object at 0x0000029C88ABC940>}\n",
      "{<pyomo.core.base.param.IndexedParam object at 0x0000029C88ABC940>}\n",
      "Entrou no ELSE no type 2 com ev = 2, t = 14, cp = 2,  m.type_[ev] = 2.0 m.Pcpmax[cp] = 2.0 m.place[cp] = 2\n",
      "{<pyomo.core.base.param.IndexedParam object at 0x0000029C88ABC940>}\n",
      "{<pyomo.core.base.param.IndexedParam object at 0x0000029C88ABC940>}\n",
      "Entrou no ELSE no type 2 com ev = 2, t = 15, cp = 2,  m.type_[ev] = 2.0 m.Pcpmax[cp] = 2.0 m.place[cp] = 2\n",
      "{<pyomo.core.base.param.IndexedParam object at 0x0000029C88ABC940>}\n",
      "{<pyomo.core.base.param.IndexedParam object at 0x0000029C88ABC940>}\n",
      "Entrou no ELSE no type 2 com ev = 2, t = 16, cp = 2,  m.type_[ev] = 2.0 m.Pcpmax[cp] = 2.0 m.place[cp] = 2\n",
      "{<pyomo.core.base.param.IndexedParam object at 0x0000029C88ABC940>}\n",
      "{<pyomo.core.base.param.IndexedParam object at 0x0000029C88ABC940>}\n",
      "Entrou no ELSE no type 2 com ev = 2, t = 17, cp = 2,  m.type_[ev] = 2.0 m.Pcpmax[cp] = 2.0 m.place[cp] = 2\n",
      "{<pyomo.core.base.param.IndexedParam object at 0x0000029C88ABC940>}\n",
      "{<pyomo.core.base.param.IndexedParam object at 0x0000029C88ABC940>}\n",
      "Entrou no ELSE no type 2 com ev = 2, t = 18, cp = 2,  m.type_[ev] = 2.0 m.Pcpmax[cp] = 2.0 m.place[cp] = 2\n",
      "{<pyomo.core.base.param.IndexedParam object at 0x0000029C88ABC940>}\n",
      "{<pyomo.core.base.param.IndexedParam object at 0x0000029C88ABC940>}\n",
      "Entrou no ELSE no type 2 com ev = 2, t = 19, cp = 2,  m.type_[ev] = 2.0 m.Pcpmax[cp] = 2.0 m.place[cp] = 2\n",
      "{<pyomo.core.base.param.IndexedParam object at 0x0000029C88ABC940>}\n",
      "{<pyomo.core.base.param.IndexedParam object at 0x0000029C88ABC940>}\n",
      "Entrou no ELSE no type 2 com ev = 2, t = 20, cp = 2,  m.type_[ev] = 2.0 m.Pcpmax[cp] = 2.0 m.place[cp] = 2\n",
      "{<pyomo.core.base.param.IndexedParam object at 0x0000029C88ABC940>}\n",
      "{<pyomo.core.base.param.IndexedParam object at 0x0000029C88ABC940>}\n",
      "Entrou no ELSE no type 2 com ev = 2, t = 21, cp = 2,  m.type_[ev] = 2.0 m.Pcpmax[cp] = 2.0 m.place[cp] = 2\n",
      "{<pyomo.core.base.param.IndexedParam object at 0x0000029C88ABC940>}\n",
      "{<pyomo.core.base.param.IndexedParam object at 0x0000029C88ABC940>}\n",
      "Entrou no ELSE no type 2 com ev = 2, t = 22, cp = 2,  m.type_[ev] = 2.0 m.Pcpmax[cp] = 2.0 m.place[cp] = 2\n",
      "{<pyomo.core.base.param.IndexedParam object at 0x0000029C88ABC940>}\n",
      "{<pyomo.core.base.param.IndexedParam object at 0x0000029C88ABC940>}\n",
      "Entrou no ELSE no type 2 com ev = 2, t = 23, cp = 2,  m.type_[ev] = 2.0 m.Pcpmax[cp] = 2.0 m.place[cp] = 2\n",
      "{<pyomo.core.base.param.IndexedParam object at 0x0000029C88ABC940>}\n",
      "{<pyomo.core.base.param.IndexedParam object at 0x0000029C88ABC940>}\n",
      "Entrou no ELSE no type 2 com ev = 2, t = 24, cp = 2,  m.type_[ev] = 2.0 m.Pcpmax[cp] = 2.0 m.place[cp] = 2\n"
     ]
    }
   ],
   "source": [
    "#****************************************************EV constraints******************************************************\n",
    "# EV power consumption constraints \n",
    "def _power_charging_limit1(m,ev,t): \n",
    "    return m.PEV[ev,t] >= 0\n",
    "model.power_charging_limit1 = pyo.Constraint(model.ev, model.t, rule = _power_charging_limit1)\n",
    "\n",
    "# EV power consumption constraints\n",
    "def _power_charging_limit2(m,ev,t): \n",
    "    return m.PEV[ev,t] <= m.PchmaxEV[ev]*m.alpha[ev,t]*m.a[ev,t]\n",
    "model.power_charging_limit2 = pyo.Constraint(model.ev, model.t, rule = _power_charging_limit2)\n",
    "\n",
    "def _power_discharging_limit1(m,ev,t):\n",
    "    return m.PEVdc[ev,t] >= 0\n",
    "model.power_discharging_limit1 = pyo.Constraint(model.ev, model.t, rule = _power_discharging_limit1)\n",
    "\n",
    "# EV power discharging constraints \n",
    "def _power_discharging_limit2(m,ev,t): \n",
    "    return m.PEVdc[ev,t] <= m.PdchmaxEV[ev]*m.alpha[ev,t]*m.b[ev,t]*m.v2gcp[cp]*m.v2gev[ev] \n",
    "model.power_discharging_limit2 = pyo.Constraint(model.ev, model.t, rule = _power_discharging_limit2)\n",
    "\n",
    "# EV charging and discharging binary limitation \n",
    "def _charging_discharging(m,ev,t): \n",
    "    return m.a[ev,t] + m.b[ev,t] <= 1 \n",
    "model.charging_discharging = pyo.Constraint(model.ev, model.t, rule = _charging_discharging)\n",
    "\n",
    "# EV energy trip \n",
    "def _balance_etripn(m,ev,t): \n",
    "    return m.Etripn[ev,t] == m.Etrip[ev]*m.S[ev,t]/(sum([m.S[ev,k] for k in np.arange(1, n_time + 1)]))\n",
    "model.balance_etripn = pyo.Constraint(model.ev, model.t, rule = _balance_etripn)\n",
    "\n",
    "# EV energy balance at time 0 \n",
    "def _balance_energy_EVS(m,ev,t,cp): \n",
    "    if t == 1:\n",
    "        #return m.EEV[ev,t] - m.Etriprelax[ev,t] == m.ESoc[ev] + m.PEV[ev,t]*m.dT[t]*(m.evcheff[ev]*m.cheff[cp]) - m.PEVdc[ev,t]*m.dT[t]/(m.evcheff[ev]*m.cheff[cp]) - m.Etripn[ev,t]\n",
    "        return m.EEV[ev,t] == m.ESoc[ev] + m.PEV[ev,t]*m.dT[t]*(m.evcheff[ev]*m.cheff[cp]) - m.PEVdc[ev,t]*m.dT[t]/(m.evcheff[ev]*m.cheff[cp]) - m.Etripn[ev,t]\n",
    "    elif t > 1:\n",
    "        return m.EEV[ev,t] == m.EEV[ev,t-1] + m.PEV[ev,t]*m.dT[t]*m.evcheff[ev] - m.PEVdc[ev,t]*m.dT[t]/m.evcheff[ev] - m.Etripn[ev,t]\n",
    "        #return m.EEV[ev,t] - m.Etriprelax[ev,t] == m.EEV[ev,t-1] + m.PEV[ev,t]*m.dT[t]*(m.evcheff[ev]*m.cheff[cp])- m.PEVdc[ev,t]*m.dT[t]/(m\n",
    "    return pyo.Constraint.Skip\n",
    "model.balance_energy_EVS = pyo.Constraint(model.ev, model.t, model.cp, rule = _balance_energy_EVS)\n",
    "\n",
    "# EV minimum capacity limitation\n",
    "def _energy_limits_EVS_1(m,ev,t): \n",
    "    #return m.EEV[ev,t] + m.Eminsocrelax[ev,t] >= m.EEVmin[ev]\n",
    "    return m.EEV[ev,t] >= m.EEVmin[ev]\n",
    "model.energy_limits_EVS_1 = pyo.Constraint(model.ev, model.t, rule = _energy_limits_EVS_1)\n",
    "\n",
    "# EV maximum capacity limitation\n",
    "def _energy_limits_EVS_2(m,ev,t): \n",
    "    return m.EEV[ev,t] <= m.EEVmax[ev] \n",
    "model.energy_limits_EVS_2 = pyo.Constraint(model.ev, model.t, rule = _energy_limits_EVS_2)  \n",
    "\n",
    "#****************************************************CS constraints******************************************************\n",
    "\n",
    "def _cp_power_charging_limit(m,ev,t,cp): \n",
    "    print({m.type_})\n",
    "    if m.type_[ev] == 1 and m.place[cp] == 1:  \n",
    "        print(f\"Entrou no IF no type 1com ev = {ev}, t = {t}, cp = {cp}, m.type_[ev] = {m.type_[ev]} m.Pcpmax[cp] = {m.Pcpmax[cp]} m.place[cp] = {m.place[cp]}\")\n",
    "        return m.PEV[ev,t] <= m.Pcpmax[cp]*m.alpha[ev,t]*m.a[ev,t]\n",
    "    elif m.type_[ev] == 2 and m.place[cp] == 2:   \n",
    "        print(f\"Entrou no ELSE no type 2 com ev = {ev}, t = {t}, cp = {cp},  m.type_[ev] = {m.type_[ev]} m.Pcpmax[cp] = {m.Pcpmax[cp]} m.place[cp] = {m.place[cp]}\")\n",
    "        return m.PEV[ev,t] == m.Pcpmax[cp]*m.alpha[ev,t]*m.a[ev,t]\n",
    "    return pyo.Constraint.Skip\n",
    "model.cp_power_charge_limit = pyo.Constraint(model.ev, model.t, model.cp, rule = _cp_power_charging_limit)\n",
    "\n",
    "\n",
    "\n",
    "#def _cp_power_discharging_limit(m,ev,t,cp): \n",
    "#    print({m.type_})\n",
    "#    if m.type_[cp] == 1:  \n",
    "#        #print(f\"Entrou no IF no type {m.type} com ev = {ev}, t = {t}, cp = {cp}\")\n",
    "#        return m.PEVdc[ev,t] <= m.PchmaxCS[ev,t]*m.alpha[ev,t]*m.b[ev,t]\n",
    "#    else: \n",
    "#        #print(f\"Entrou no ELSE no type {m.type} com ev = {ev}, t = {t}, cp = {cp}\")\n",
    "#        return m.PEVdc[ev,t] == 0\n",
    "#    #else:\n",
    "#        #print(f\"bnana {m.type} com ev = {ev}, t = {t}, cp = {cp}\")\n",
    "#        return 0       \n",
    "#model.cp_power_discharge_limit = pyo.Constraint(model.ev, model.t, model.cp, rule = _cp_power_discharging_limit)\n",
    "\n",
    "#Target \n",
    "#def _balance_energy_EVS3(m,ev,t): \n",
    "#    if t == 24:\n",
    "#        return m.EEV[ev,t] + m.Etriprelax[ev,t] >= m.EEVmax[ev]*m.m\n",
    "#    return pyo.Constraint.Skip\n",
    "#model.balance_energy_EVS3 = pyo.Constraint(model.ev, model.t, rule = _balance_energy_EVS3)\n"
   ]
  },
  {
   "cell_type": "markdown",
   "id": "106b423e",
   "metadata": {
    "pycharm": {
     "name": "#%% md\n"
    }
   },
   "source": [
    "## Objective function"
   ]
  },
  {
   "cell_type": "code",
   "execution_count": 3296,
   "id": "5c853d22",
   "metadata": {
    "ExecuteTime": {
     "end_time": "2023-01-24T15:20:31.343873Z",
     "start_time": "2023-01-24T15:20:30.446843Z"
    },
    "pycharm": {
     "name": "#%%\n"
    }
   },
   "outputs": [],
   "source": [
    "def _FOag(m):\n",
    "    return sum([m.PEV[ev,t]*m.dT[t]*m.cDA[t] - m.PEVdc[ev, t]*m.dT[t]*(m.cDA[t]- m.DegCost) + (m.Etripn[ev,t] - m.EEV[ev,t]) + m.Etriprelax[ev,t]*m.penalty1 + m.Eminsocrelax[ev,t]*m.penalty2 for ev in np.arange(1, n_evs + 1) for t in np.arange(1, n_time + 1)])\n",
    "    #return sum([m.PEV[ev,t]*m.dT[t]*m.cDA[t] - m.PEVdc[ev, t]*m.dT[t]*(m.cDA[t])  for ev in np.arange(1, n_evs + 1) for t in np.arange(1, n_time + 1)])\n",
    "\n",
    "model.FOag = pyo.Objective(rule = _FOag, sense = pyo.minimize)"
   ]
  },
  {
   "cell_type": "markdown",
   "id": "7a003177",
   "metadata": {
    "pycharm": {
     "name": "#%% md\n"
    }
   },
   "source": [
    "## Solve the model"
   ]
  },
  {
   "cell_type": "code",
   "execution_count": 3297,
   "id": "dc918d94",
   "metadata": {
    "ExecuteTime": {
     "end_time": "2023-01-24T15:20:54.818973Z",
     "start_time": "2023-01-24T15:20:31.343873Z"
    },
    "pycharm": {
     "name": "#%%\n"
    }
   },
   "outputs": [
    {
     "name": "stdout",
     "output_type": "stream",
     "text": [
      "# ==========================================================\n",
      "# = Solver Results                                         =\n",
      "# ==========================================================\n",
      "# ----------------------------------------------------------\n",
      "#   Problem Information\n",
      "# ----------------------------------------------------------\n",
      "Problem: \n",
      "- Name: tmp47a0axwv\n",
      "  Lower bound: -885.6690000000003\n",
      "  Upper bound: -885.6690000000003\n",
      "  Number of objectives: 1\n",
      "  Number of constraints: 529\n",
      "  Number of variables: 385\n",
      "  Number of nonzeros: 999\n",
      "  Sense: minimize\n",
      "# ----------------------------------------------------------\n",
      "#   Solver Information\n",
      "# ----------------------------------------------------------\n",
      "Solver: \n",
      "- Status: ok\n",
      "  User time: 0.0\n",
      "  Termination condition: optimal\n",
      "  Termination message: MIP - Integer optimal solution\\x3a Objective = -8.8566900000e+02\n",
      "  Statistics: \n",
      "    Branch and bound: \n",
      "      Number of bounded subproblems: 0\n",
      "      Number of created subproblems: 0\n",
      "  Error rc: 0\n",
      "  Time: 0.07253098487854004\n",
      "# ----------------------------------------------------------\n",
      "#   Solution Information\n",
      "# ----------------------------------------------------------\n",
      "Solution: \n",
      "- number of solutions: 0\n",
      "  number of solutions displayed: 0\n"
     ]
    }
   ],
   "source": [
    "from pyomo.opt import SolverFactory\n",
    "\n",
    "model.write('res_V4_EC.lp',  io_options={'symbolic_solver_labels': True})\n",
    "\n",
    "# Create a solver\n",
    "#opt = pyo.SolverFactory('cbc', executable='C:/Program Files/Cbc-releases.2.10.8-x86_64-w64-mingw64/bin/cbc.exe')\n",
    "\n",
    "opt = pyo.SolverFactory('cplex', executable='C:/Program Files/IBM/ILOG/CPLEX_Studio129/cplex/bin/x64_win64/cplex.exe')\n",
    "opt.options['LogFile'] = 'res_V4_EC.log'\n",
    "\n",
    "#opt = pyo.SolverFactory('ipopt', executable='C:/Program Files/Ipopt-3.11.1-win64-intel13.1/bin/ipopt.exe')\n",
    "#opt.options['print_level'] = 12\n",
    "#opt.options['output_file'] = \"res_V5_EC.log\"\n",
    "\n",
    "results = opt.solve(model)#, tee=True)\n",
    "results.write()"
   ]
  },
  {
   "cell_type": "markdown",
   "id": "c31aa552",
   "metadata": {
    "pycharm": {
     "name": "#%% md\n"
    }
   },
   "source": [
    "## Objective Function Value"
   ]
  },
  {
   "cell_type": "code",
   "execution_count": 3298,
   "id": "76d81e13",
   "metadata": {
    "ExecuteTime": {
     "end_time": "2023-01-24T15:20:55.228995Z",
     "start_time": "2023-01-24T15:20:54.818973Z"
    },
    "pycharm": {
     "name": "#%%\n"
    }
   },
   "outputs": [
    {
     "data": {
      "text/plain": [
       "-885.6689999999996"
      ]
     },
     "execution_count": 3298,
     "metadata": {},
     "output_type": "execute_result"
    }
   ],
   "source": [
    "pyo.value(model.FOag)"
   ]
  },
  {
   "cell_type": "markdown",
   "id": "b06487ee",
   "metadata": {
    "pycharm": {
     "name": "#%% md\n"
    }
   },
   "source": [
    "## End Time"
   ]
  },
  {
   "cell_type": "code",
   "execution_count": 3299,
   "id": "d9f57ae2",
   "metadata": {
    "pycharm": {
     "name": "#%%\n"
    }
   },
   "outputs": [
    {
     "name": "stdout",
     "output_type": "stream",
     "text": [
      "End Time = 11:44:56\n",
      "Dif: 0:00:00\n"
     ]
    }
   ],
   "source": [
    "now = datetime.now()\n",
    "\n",
    "end_time = now.strftime(\"%H:%M:%S\")\n",
    "print(\"End Time =\", end_time)\n",
    "print(\"Dif: {}\".format(datetime.strptime(end_time, \"%H:%M:%S\") - datetime.strptime(start_time, \"%H:%M:%S\")))"
   ]
  },
  {
   "cell_type": "markdown",
   "id": "a783fc3a",
   "metadata": {
    "pycharm": {
     "name": "#%% md\n"
    }
   },
   "source": [
    "## Cost Value"
   ]
  },
  {
   "cell_type": "code",
   "execution_count": 3300,
   "id": "ef6eabbd",
   "metadata": {
    "ExecuteTime": {
     "end_time": "2023-01-24T15:20:55.235996Z",
     "start_time": "2023-01-24T15:20:55.230996Z"
    },
    "pycharm": {
     "name": "#%%\n"
    }
   },
   "outputs": [],
   "source": [
    "def ext_pyomo_vals(vals):\n",
    "    # make a pd.Series from each\n",
    "    s = pd.Series(vals.extract_values(),\n",
    "                  index=vals.extract_values().keys())\n",
    "    # if the series is multi-indexed we need to unstack it...\n",
    "    if type(s.index[0]) == tuple:    # it is multi-indexed\n",
    "        s = s.unstack(level=1)\n",
    "    else:\n",
    "        # force transition from Series -> df\n",
    "        s = pd.DataFrame(s)\n",
    "    return s"
   ]
  },
  {
   "cell_type": "code",
   "execution_count": 3301,
   "id": "ca3fae15",
   "metadata": {
    "ExecuteTime": {
     "end_time": "2023-01-24T15:20:58.382033Z",
     "start_time": "2023-01-24T15:20:55.237996Z"
    },
    "pycharm": {
     "name": "#%%\n"
    }
   },
   "outputs": [
    {
     "name": "stdout",
     "output_type": "stream",
     "text": [
      "Charge cost: 3.1310000000000007\n",
      "Discharge cost: 0.0\n"
     ]
    }
   ],
   "source": [
    "PEV_df = ext_pyomo_vals(model.PEV)\n",
    "dT_df = ext_pyomo_vals(model.dT)\n",
    "cDA_df = ext_pyomo_vals(model.cDA)\n",
    "PEVdc_df = ext_pyomo_vals(model.PEVdc)\n",
    "EEV_df = ext_pyomo_vals(model.EEV)\n",
    "\n",
    "charge_cost = sum([PEV_df[t][ev]*dT_df[0][t]*cDA_df[0][t]\n",
    "                   for ev in np.arange(1, n_evs + 1) for t in np.arange(1, n_time + 1)])\n",
    "\n",
    "discharge_cost = sum([PEVdc_df[t][ev]*dT_df[0][t]*cDA_df[0][t]\n",
    "                      for ev in np.arange(1, n_evs + 1) for t in np.arange(1, n_time + 1)])\n",
    "\n",
    "print('Charge cost: {}'.format(charge_cost))\n",
    "print('Discharge cost: {}'.format(discharge_cost))"
   ]
  },
  {
   "cell_type": "markdown",
   "id": "7c617a9b",
   "metadata": {
    "pycharm": {
     "name": "#%% md\n"
    }
   },
   "source": [
    "## Results"
   ]
  },
  {
   "cell_type": "code",
   "execution_count": 3302,
   "id": "93c9fd8b",
   "metadata": {
    "ExecuteTime": {
     "end_time": "2023-01-24T15:20:58.393034Z",
     "start_time": "2023-01-24T15:20:58.382033Z"
    },
    "pycharm": {
     "name": "#%%\n"
    }
   },
   "outputs": [
    {
     "name": "stdout",
     "output_type": "stream",
     "text": [
      "Total Charge: 66.0\n"
     ]
    }
   ],
   "source": [
    "print(\"Total Charge: {}\".format(np.sum(PEV_df.to_numpy())))"
   ]
  },
  {
   "cell_type": "code",
   "execution_count": 3303,
   "id": "bbda4ebf",
   "metadata": {
    "ExecuteTime": {
     "end_time": "2023-01-24T15:20:58.405035Z",
     "start_time": "2023-01-24T15:20:58.396034Z"
    },
    "pycharm": {
     "name": "#%%\n"
    }
   },
   "outputs": [
    {
     "name": "stdout",
     "output_type": "stream",
     "text": [
      "Total Discharge: 0.0\n"
     ]
    }
   ],
   "source": [
    "print(\"Total Discharge: {}\".format(np.sum(PEVdc_df.to_numpy())))"
   ]
  },
  {
   "cell_type": "code",
   "execution_count": 3304,
   "id": "cc509769",
   "metadata": {
    "ExecuteTime": {
     "end_time": "2023-01-24T15:20:58.459038Z",
     "start_time": "2023-01-24T15:20:58.407035Z"
    },
    "pycharm": {
     "name": "#%%\n"
    }
   },
   "outputs": [
    {
     "data": {
      "text/html": [
       "<div>\n",
       "<style scoped>\n",
       "    .dataframe tbody tr th:only-of-type {\n",
       "        vertical-align: middle;\n",
       "    }\n",
       "\n",
       "    .dataframe tbody tr th {\n",
       "        vertical-align: top;\n",
       "    }\n",
       "\n",
       "    .dataframe thead th {\n",
       "        text-align: right;\n",
       "    }\n",
       "</style>\n",
       "<table border=\"1\" class=\"dataframe\">\n",
       "  <thead>\n",
       "    <tr style=\"text-align: right;\">\n",
       "      <th></th>\n",
       "      <th>1</th>\n",
       "      <th>2</th>\n",
       "      <th>3</th>\n",
       "      <th>4</th>\n",
       "      <th>5</th>\n",
       "      <th>6</th>\n",
       "      <th>7</th>\n",
       "      <th>8</th>\n",
       "      <th>9</th>\n",
       "      <th>10</th>\n",
       "      <th>...</th>\n",
       "      <th>15</th>\n",
       "      <th>16</th>\n",
       "      <th>17</th>\n",
       "      <th>18</th>\n",
       "      <th>19</th>\n",
       "      <th>20</th>\n",
       "      <th>21</th>\n",
       "      <th>22</th>\n",
       "      <th>23</th>\n",
       "      <th>24</th>\n",
       "    </tr>\n",
       "  </thead>\n",
       "  <tbody>\n",
       "    <tr>\n",
       "      <th>1</th>\n",
       "      <td>5.0</td>\n",
       "      <td>5.0</td>\n",
       "      <td>5.0</td>\n",
       "      <td>5.0</td>\n",
       "      <td>5.0</td>\n",
       "      <td>5.0</td>\n",
       "      <td>5.00</td>\n",
       "      <td>10.52</td>\n",
       "      <td>16.04</td>\n",
       "      <td>21.56</td>\n",
       "      <td>...</td>\n",
       "      <td>32.12</td>\n",
       "      <td>37.64</td>\n",
       "      <td>43.16</td>\n",
       "      <td>48.68</td>\n",
       "      <td>42.68</td>\n",
       "      <td>42.68</td>\n",
       "      <td>42.68</td>\n",
       "      <td>42.68</td>\n",
       "      <td>42.68</td>\n",
       "      <td>42.68</td>\n",
       "    </tr>\n",
       "    <tr>\n",
       "      <th>2</th>\n",
       "      <td>8.0</td>\n",
       "      <td>8.0</td>\n",
       "      <td>8.0</td>\n",
       "      <td>8.0</td>\n",
       "      <td>8.0</td>\n",
       "      <td>8.0</td>\n",
       "      <td>9.84</td>\n",
       "      <td>11.68</td>\n",
       "      <td>13.52</td>\n",
       "      <td>15.36</td>\n",
       "      <td>...</td>\n",
       "      <td>19.04</td>\n",
       "      <td>19.04</td>\n",
       "      <td>19.04</td>\n",
       "      <td>19.04</td>\n",
       "      <td>9.04</td>\n",
       "      <td>9.04</td>\n",
       "      <td>9.04</td>\n",
       "      <td>9.04</td>\n",
       "      <td>9.04</td>\n",
       "      <td>9.04</td>\n",
       "    </tr>\n",
       "  </tbody>\n",
       "</table>\n",
       "<p>2 rows × 24 columns</p>\n",
       "</div>"
      ],
      "text/plain": [
       "    1    2    3    4    5    6     7      8      9      10  ...     15     16  \\\n",
       "1  5.0  5.0  5.0  5.0  5.0  5.0  5.00  10.52  16.04  21.56  ...  32.12  37.64   \n",
       "2  8.0  8.0  8.0  8.0  8.0  8.0  9.84  11.68  13.52  15.36  ...  19.04  19.04   \n",
       "\n",
       "      17     18     19     20     21     22     23     24  \n",
       "1  43.16  48.68  42.68  42.68  42.68  42.68  42.68  42.68  \n",
       "2  19.04  19.04   9.04   9.04   9.04   9.04   9.04   9.04  \n",
       "\n",
       "[2 rows x 24 columns]"
      ]
     },
     "execution_count": 3304,
     "metadata": {},
     "output_type": "execute_result"
    }
   ],
   "source": [
    "EEV_df"
   ]
  },
  {
   "cell_type": "code",
   "execution_count": 3305,
   "id": "e5aa3df0",
   "metadata": {
    "ExecuteTime": {
     "end_time": "2023-01-24T15:20:58.507040Z",
     "start_time": "2023-01-24T15:20:58.461038Z"
    },
    "pycharm": {
     "name": "#%%\n"
    }
   },
   "outputs": [
    {
     "data": {
      "text/html": [
       "<div>\n",
       "<style scoped>\n",
       "    .dataframe tbody tr th:only-of-type {\n",
       "        vertical-align: middle;\n",
       "    }\n",
       "\n",
       "    .dataframe tbody tr th {\n",
       "        vertical-align: top;\n",
       "    }\n",
       "\n",
       "    .dataframe thead th {\n",
       "        text-align: right;\n",
       "    }\n",
       "</style>\n",
       "<table border=\"1\" class=\"dataframe\">\n",
       "  <thead>\n",
       "    <tr style=\"text-align: right;\">\n",
       "      <th></th>\n",
       "      <th>1</th>\n",
       "      <th>2</th>\n",
       "      <th>3</th>\n",
       "      <th>4</th>\n",
       "      <th>5</th>\n",
       "      <th>6</th>\n",
       "      <th>7</th>\n",
       "      <th>8</th>\n",
       "      <th>9</th>\n",
       "      <th>10</th>\n",
       "      <th>...</th>\n",
       "      <th>15</th>\n",
       "      <th>16</th>\n",
       "      <th>17</th>\n",
       "      <th>18</th>\n",
       "      <th>19</th>\n",
       "      <th>20</th>\n",
       "      <th>21</th>\n",
       "      <th>22</th>\n",
       "      <th>23</th>\n",
       "      <th>24</th>\n",
       "    </tr>\n",
       "  </thead>\n",
       "  <tbody>\n",
       "    <tr>\n",
       "      <th>1</th>\n",
       "      <td>0.0</td>\n",
       "      <td>0.0</td>\n",
       "      <td>0.0</td>\n",
       "      <td>0.0</td>\n",
       "      <td>0.0</td>\n",
       "      <td>0.0</td>\n",
       "      <td>0.0</td>\n",
       "      <td>6.0</td>\n",
       "      <td>6.0</td>\n",
       "      <td>6.0</td>\n",
       "      <td>...</td>\n",
       "      <td>6.0</td>\n",
       "      <td>6.0</td>\n",
       "      <td>6.0</td>\n",
       "      <td>6.0</td>\n",
       "      <td>0.0</td>\n",
       "      <td>0.0</td>\n",
       "      <td>0.0</td>\n",
       "      <td>0.0</td>\n",
       "      <td>0.0</td>\n",
       "      <td>0.0</td>\n",
       "    </tr>\n",
       "    <tr>\n",
       "      <th>2</th>\n",
       "      <td>0.0</td>\n",
       "      <td>0.0</td>\n",
       "      <td>0.0</td>\n",
       "      <td>0.0</td>\n",
       "      <td>0.0</td>\n",
       "      <td>0.0</td>\n",
       "      <td>2.0</td>\n",
       "      <td>2.0</td>\n",
       "      <td>2.0</td>\n",
       "      <td>2.0</td>\n",
       "      <td>...</td>\n",
       "      <td>0.0</td>\n",
       "      <td>0.0</td>\n",
       "      <td>0.0</td>\n",
       "      <td>0.0</td>\n",
       "      <td>0.0</td>\n",
       "      <td>0.0</td>\n",
       "      <td>0.0</td>\n",
       "      <td>0.0</td>\n",
       "      <td>0.0</td>\n",
       "      <td>0.0</td>\n",
       "    </tr>\n",
       "  </tbody>\n",
       "</table>\n",
       "<p>2 rows × 24 columns</p>\n",
       "</div>"
      ],
      "text/plain": [
       "    1    2    3    4    5    6    7    8    9    10  ...   15   16   17   18  \\\n",
       "1  0.0  0.0  0.0  0.0  0.0  0.0  0.0  6.0  6.0  6.0  ...  6.0  6.0  6.0  6.0   \n",
       "2  0.0  0.0  0.0  0.0  0.0  0.0  2.0  2.0  2.0  2.0  ...  0.0  0.0  0.0  0.0   \n",
       "\n",
       "    19   20   21   22   23   24  \n",
       "1  0.0  0.0  0.0  0.0  0.0  0.0  \n",
       "2  0.0  0.0  0.0  0.0  0.0  0.0  \n",
       "\n",
       "[2 rows x 24 columns]"
      ]
     },
     "execution_count": 3305,
     "metadata": {},
     "output_type": "execute_result"
    }
   ],
   "source": [
    "PEV_df"
   ]
  },
  {
   "cell_type": "code",
   "execution_count": 3306,
   "id": "17060cc6",
   "metadata": {
    "ExecuteTime": {
     "end_time": "2023-01-24T15:20:58.553043Z",
     "start_time": "2023-01-24T15:20:58.508040Z"
    },
    "pycharm": {
     "name": "#%%\n"
    }
   },
   "outputs": [
    {
     "data": {
      "text/html": [
       "<div>\n",
       "<style scoped>\n",
       "    .dataframe tbody tr th:only-of-type {\n",
       "        vertical-align: middle;\n",
       "    }\n",
       "\n",
       "    .dataframe tbody tr th {\n",
       "        vertical-align: top;\n",
       "    }\n",
       "\n",
       "    .dataframe thead th {\n",
       "        text-align: right;\n",
       "    }\n",
       "</style>\n",
       "<table border=\"1\" class=\"dataframe\">\n",
       "  <thead>\n",
       "    <tr style=\"text-align: right;\">\n",
       "      <th></th>\n",
       "      <th>1</th>\n",
       "      <th>2</th>\n",
       "      <th>3</th>\n",
       "      <th>4</th>\n",
       "      <th>5</th>\n",
       "      <th>6</th>\n",
       "      <th>7</th>\n",
       "      <th>8</th>\n",
       "      <th>9</th>\n",
       "      <th>10</th>\n",
       "      <th>...</th>\n",
       "      <th>15</th>\n",
       "      <th>16</th>\n",
       "      <th>17</th>\n",
       "      <th>18</th>\n",
       "      <th>19</th>\n",
       "      <th>20</th>\n",
       "      <th>21</th>\n",
       "      <th>22</th>\n",
       "      <th>23</th>\n",
       "      <th>24</th>\n",
       "    </tr>\n",
       "  </thead>\n",
       "  <tbody>\n",
       "    <tr>\n",
       "      <th>1</th>\n",
       "      <td>0.0</td>\n",
       "      <td>0.0</td>\n",
       "      <td>0.0</td>\n",
       "      <td>0.0</td>\n",
       "      <td>0.0</td>\n",
       "      <td>0.0</td>\n",
       "      <td>0.0</td>\n",
       "      <td>0.0</td>\n",
       "      <td>0.0</td>\n",
       "      <td>0.0</td>\n",
       "      <td>...</td>\n",
       "      <td>0.0</td>\n",
       "      <td>0.0</td>\n",
       "      <td>0.0</td>\n",
       "      <td>0.0</td>\n",
       "      <td>0.0</td>\n",
       "      <td>0.0</td>\n",
       "      <td>0.0</td>\n",
       "      <td>0.0</td>\n",
       "      <td>0.0</td>\n",
       "      <td>0.0</td>\n",
       "    </tr>\n",
       "    <tr>\n",
       "      <th>2</th>\n",
       "      <td>0.0</td>\n",
       "      <td>0.0</td>\n",
       "      <td>0.0</td>\n",
       "      <td>0.0</td>\n",
       "      <td>0.0</td>\n",
       "      <td>0.0</td>\n",
       "      <td>0.0</td>\n",
       "      <td>0.0</td>\n",
       "      <td>0.0</td>\n",
       "      <td>0.0</td>\n",
       "      <td>...</td>\n",
       "      <td>0.0</td>\n",
       "      <td>0.0</td>\n",
       "      <td>0.0</td>\n",
       "      <td>0.0</td>\n",
       "      <td>0.0</td>\n",
       "      <td>0.0</td>\n",
       "      <td>0.0</td>\n",
       "      <td>0.0</td>\n",
       "      <td>0.0</td>\n",
       "      <td>0.0</td>\n",
       "    </tr>\n",
       "  </tbody>\n",
       "</table>\n",
       "<p>2 rows × 24 columns</p>\n",
       "</div>"
      ],
      "text/plain": [
       "    1    2    3    4    5    6    7    8    9    10  ...   15   16   17   18  \\\n",
       "1  0.0  0.0  0.0  0.0  0.0  0.0  0.0  0.0  0.0  0.0  ...  0.0  0.0  0.0  0.0   \n",
       "2  0.0  0.0  0.0  0.0  0.0  0.0  0.0  0.0  0.0  0.0  ...  0.0  0.0  0.0  0.0   \n",
       "\n",
       "    19   20   21   22   23   24  \n",
       "1  0.0  0.0  0.0  0.0  0.0  0.0  \n",
       "2  0.0  0.0  0.0  0.0  0.0  0.0  \n",
       "\n",
       "[2 rows x 24 columns]"
      ]
     },
     "execution_count": 3306,
     "metadata": {},
     "output_type": "execute_result"
    }
   ],
   "source": [
    "PEVdc_df"
   ]
  },
  {
   "cell_type": "code",
   "execution_count": 3307,
   "id": "2e115437",
   "metadata": {
    "ExecuteTime": {
     "end_time": "2023-01-24T15:20:58.566044Z",
     "start_time": "2023-01-24T15:20:58.555043Z"
    },
    "pycharm": {
     "name": "#%%\n"
    }
   },
   "outputs": [
    {
     "data": {
      "text/plain": [
       "1     0.0\n",
       "2     0.0\n",
       "3     0.0\n",
       "4     0.0\n",
       "5     0.0\n",
       "6     0.0\n",
       "7     2.0\n",
       "8     8.0\n",
       "9     8.0\n",
       "10    8.0\n",
       "11    8.0\n",
       "12    8.0\n",
       "13    0.0\n",
       "14    0.0\n",
       "15    6.0\n",
       "16    6.0\n",
       "17    6.0\n",
       "18    6.0\n",
       "19    0.0\n",
       "20    0.0\n",
       "21    0.0\n",
       "22    0.0\n",
       "23    0.0\n",
       "24    0.0\n",
       "dtype: float64"
      ]
     },
     "execution_count": 3307,
     "metadata": {},
     "output_type": "execute_result"
    }
   ],
   "source": [
    "PEV_df.sum()"
   ]
  },
  {
   "cell_type": "code",
   "execution_count": 3308,
   "id": "b6c8c904",
   "metadata": {
    "ExecuteTime": {
     "end_time": "2023-01-24T15:20:58.582045Z",
     "start_time": "2023-01-24T15:20:58.568044Z"
    },
    "pycharm": {
     "name": "#%%\n"
    }
   },
   "outputs": [
    {
     "data": {
      "text/plain": [
       "1     0.0\n",
       "2     0.0\n",
       "3     0.0\n",
       "4     0.0\n",
       "5     0.0\n",
       "6     0.0\n",
       "7     0.0\n",
       "8     0.0\n",
       "9     0.0\n",
       "10    0.0\n",
       "11    0.0\n",
       "12    0.0\n",
       "13    0.0\n",
       "14    0.0\n",
       "15    0.0\n",
       "16    0.0\n",
       "17    0.0\n",
       "18    0.0\n",
       "19    0.0\n",
       "20    0.0\n",
       "21    0.0\n",
       "22    0.0\n",
       "23    0.0\n",
       "24    0.0\n",
       "dtype: float64"
      ]
     },
     "execution_count": 3308,
     "metadata": {},
     "output_type": "execute_result"
    }
   ],
   "source": [
    "PEVdc_df.sum()"
   ]
  },
  {
   "cell_type": "code",
   "execution_count": 3309,
   "id": "b0d84086",
   "metadata": {
    "ExecuteTime": {
     "end_time": "2023-01-24T16:47:49.004774Z",
     "start_time": "2023-01-24T16:47:48.888768Z"
    },
    "pycharm": {
     "name": "#%%\n"
    }
   },
   "outputs": [],
   "source": [
    "Etriprelax_df = ext_pyomo_vals(model.Etriprelax)"
   ]
  },
  {
   "cell_type": "code",
   "execution_count": 3310,
   "id": "afbfe29b",
   "metadata": {
    "ExecuteTime": {
     "end_time": "2023-01-24T16:47:55.420930Z",
     "start_time": "2023-01-24T16:47:55.408930Z"
    },
    "pycharm": {
     "name": "#%%\n"
    }
   },
   "outputs": [
    {
     "data": {
      "text/plain": [
       "1     0.0\n",
       "2     0.0\n",
       "3     0.0\n",
       "4     0.0\n",
       "5     0.0\n",
       "6     0.0\n",
       "7     0.0\n",
       "8     0.0\n",
       "9     0.0\n",
       "10    0.0\n",
       "11    0.0\n",
       "12    0.0\n",
       "13    0.0\n",
       "14    0.0\n",
       "15    0.0\n",
       "16    0.0\n",
       "17    0.0\n",
       "18    0.0\n",
       "19    0.0\n",
       "20    0.0\n",
       "21    0.0\n",
       "22    0.0\n",
       "23    0.0\n",
       "24    0.0\n",
       "dtype: float64"
      ]
     },
     "execution_count": 3310,
     "metadata": {},
     "output_type": "execute_result"
    }
   ],
   "source": [
    "Etriprelax_df.sum()"
   ]
  },
  {
   "cell_type": "code",
   "execution_count": 3311,
   "id": "44ddc77e",
   "metadata": {
    "ExecuteTime": {
     "end_time": "2023-01-24T16:48:58.631746Z",
     "start_time": "2023-01-24T16:48:58.519740Z"
    },
    "pycharm": {
     "name": "#%%\n"
    }
   },
   "outputs": [],
   "source": [
    "Eminsocrelax_df = ext_pyomo_vals(model.Eminsocrelax)"
   ]
  },
  {
   "cell_type": "code",
   "execution_count": 3312,
   "id": "7ee14872",
   "metadata": {
    "ExecuteTime": {
     "end_time": "2023-01-24T16:48:58.862759Z",
     "start_time": "2023-01-24T16:48:58.853759Z"
    },
    "pycharm": {
     "name": "#%%\n"
    }
   },
   "outputs": [
    {
     "data": {
      "text/plain": [
       "1     0.0\n",
       "2     0.0\n",
       "3     0.0\n",
       "4     0.0\n",
       "5     0.0\n",
       "6     0.0\n",
       "7     0.0\n",
       "8     0.0\n",
       "9     0.0\n",
       "10    0.0\n",
       "11    0.0\n",
       "12    0.0\n",
       "13    0.0\n",
       "14    0.0\n",
       "15    0.0\n",
       "16    0.0\n",
       "17    0.0\n",
       "18    0.0\n",
       "19    0.0\n",
       "20    0.0\n",
       "21    0.0\n",
       "22    0.0\n",
       "23    0.0\n",
       "24    0.0\n",
       "dtype: float64"
      ]
     },
     "execution_count": 3312,
     "metadata": {},
     "output_type": "execute_result"
    }
   ],
   "source": [
    "Eminsocrelax_df.sum()"
   ]
  },
  {
   "cell_type": "code",
   "execution_count": 3313,
   "id": "a5184c38",
   "metadata": {
    "ExecuteTime": {
     "end_time": "2023-01-24T16:49:24.131588Z",
     "start_time": "2023-01-24T16:49:21.365524Z"
    },
    "pycharm": {
     "name": "#%%\n"
    }
   },
   "outputs": [],
   "source": [
    "Etripn_df = ext_pyomo_vals(model.Etripn)"
   ]
  },
  {
   "cell_type": "code",
   "execution_count": 3314,
   "id": "900b4c5b",
   "metadata": {
    "ExecuteTime": {
     "end_time": "2023-01-24T16:49:27.726669Z",
     "start_time": "2023-01-24T16:49:27.716669Z"
    },
    "pycharm": {
     "name": "#%%\n"
    }
   },
   "outputs": [
    {
     "data": {
      "text/plain": [
       "1      0.0\n",
       "2      0.0\n",
       "3      0.0\n",
       "4      0.0\n",
       "5      0.0\n",
       "6      0.0\n",
       "7      0.0\n",
       "8      0.0\n",
       "9      0.0\n",
       "10     0.0\n",
       "11     0.0\n",
       "12     6.0\n",
       "13     0.0\n",
       "14     0.0\n",
       "15     0.0\n",
       "16     0.0\n",
       "17     0.0\n",
       "18     0.0\n",
       "19    16.0\n",
       "20     0.0\n",
       "21     0.0\n",
       "22     0.0\n",
       "23     0.0\n",
       "24     0.0\n",
       "dtype: float64"
      ]
     },
     "execution_count": 3314,
     "metadata": {},
     "output_type": "execute_result"
    }
   ],
   "source": [
    "Etripn_df.sum()"
   ]
  },
  {
   "cell_type": "markdown",
   "id": "8ad0e11f",
   "metadata": {
    "pycharm": {
     "name": "#%% md\n"
    }
   },
   "source": [
    "## Save results in csv files"
   ]
  },
  {
   "cell_type": "code",
   "execution_count": 3315,
   "id": "7ac39855",
   "metadata": {
    "ExecuteTime": {
     "end_time": "2023-01-24T17:20:57.868831Z",
     "start_time": "2023-01-24T17:20:57.674823Z"
    },
    "pycharm": {
     "name": "#%%\n"
    }
   },
   "outputs": [],
   "source": [
    "import os \n",
    "folder = 'RESULTS_' + str(n_evs)\n",
    "\n",
    "if not os.path.exists(folder):\n",
    "    os.makedirs(folder)\n",
    "    \n",
    "EEV_df.to_csv(folder + '/EEV.csv')\n",
    "PEV_df.to_csv(folder + '/PEV.csv')\n",
    "PEVdc_df.to_csv(folder + '/PEVdc.csv')\n",
    "PEV_df.sum().to_csv(folder + '/PEV_h.csv')\n",
    "PEVdc_df.sum().to_csv(folder + '/PEVdc_h.csv')\n",
    "\n",
    "Etriprelax_df.to_csv(folder + '/Etriprelax.csv')\n",
    "Etriprelax_df.sum().to_csv(folder + '/Etriprelax_h.csv')\n",
    "\n",
    "Eminsocrelax_df.to_csv(folder + '/Eminsocrelax.csv')\n",
    "Eminsocrelax_df.sum().to_csv(folder + '/Eminsocrelax_h.csv')\n",
    "\n",
    "Etripn_df.to_csv(folder + '/Etripn.csv')\n",
    "Etripn_df.sum().to_csv(folder + '/Etripn_h.csv')"
   ]
  },
  {
   "cell_type": "code",
   "execution_count": null,
   "id": "46ba672e",
   "metadata": {
    "pycharm": {
     "name": "#%%\n"
    }
   },
   "outputs": [],
   "source": []
  }
 ],
 "metadata": {
  "kernelspec": {
   "display_name": "Python 3 (ipykernel)",
   "language": "python",
   "name": "python3"
  },
  "language_info": {
   "codemirror_mode": {
    "name": "ipython",
    "version": 3
   },
   "file_extension": ".py",
   "mimetype": "text/x-python",
   "name": "python",
   "nbconvert_exporter": "python",
   "pygments_lexer": "ipython3",
   "version": "3.10.11"
  },
  "toc": {
   "base_numbering": 1,
   "nav_menu": {},
   "number_sections": true,
   "sideBar": true,
   "skip_h1_title": false,
   "title_cell": "Table of Contents",
   "title_sidebar": "Contents",
   "toc_cell": false,
   "toc_position": {},
   "toc_section_display": true,
   "toc_window_display": false
  }
 },
 "nbformat": 4,
 "nbformat_minor": 5
}
